{
 "cells": [
  {
   "cell_type": "code",
   "execution_count": 30,
   "metadata": {},
   "outputs": [],
   "source": [
    "import random\n",
    "import sys\n",
    "import numpy as np\n",
    "import matplotlib.pyplot as plt\n",
    "\n",
    "INT_MAX = sys.maxsize  \n",
    "INT_MIN = -sys.maxsize-1\n",
    "\n",
    "\n",
    "# https://stackoverflow.com/questions/45888346/python-numpy-generated-binary-file-to-be-read-by-c\n",
    "# | numpy    | C\n",
    "# +----------+---------------\n",
    "# | np.int32 | int32_t / char\n",
    "# | np.int64 | int64_t\n",
    "# | np.intc  | int\n",
    "  \n",
    "def generate(n, unique=False):\n",
    "  if unique:\n",
    "    # Generate a uniform random sample from np.arange(n*2) of size 'n' without replacement\n",
    "    return np.random.choice(n*2, size=n, replace=False) ## .dtype == int64\n",
    "\n",
    "  # Return random integers from INT_MIN (inclusive) to INT_MAX+1 (exclusive)\n",
    "  return np.random.randint(low=INT_MIN, high=INT_MAX+1, size=n, dtype=np.int64)\n",
    "#   return np.random.uniform(INT_MIN, INT_MAX, size)\n",
    "\n",
    "def save_arr(arr, filename):\n",
    "  return arr.tofile(filename, sep=\" \", format=\"%i\")\n",
    "#   fd = open(filename, mode='wb')\n",
    "#   arr.tofile(fd)\n",
    "#   fd.close\n"
   ]
  },
  {
   "cell_type": "code",
   "execution_count": 129,
   "metadata": {},
   "outputs": [
    {
     "data": {
      "text/plain": [
       "[3322922682349032010, 1745553721674944218, 5558999733606614238]"
      ]
     },
     "execution_count": 129,
     "metadata": {},
     "output_type": "execute_result"
    }
   ],
   "source": [
    "# Return a k length list of unique elements chosen from the population sequence.\n",
    "# Used for random sampling without replacement\n",
    "random.sample(range(INT_MAX), 3)"
   ]
  },
  {
   "cell_type": "code",
   "execution_count": 31,
   "metadata": {},
   "outputs": [
    {
     "data": {
      "text/plain": [
       "dtype('int64')"
      ]
     },
     "execution_count": 31,
     "metadata": {},
     "output_type": "execute_result"
    }
   ],
   "source": [
    "generate(100, False).dtype"
   ]
  },
  {
   "cell_type": "code",
   "execution_count": 3,
   "metadata": {},
   "outputs": [
    {
     "data": {
      "image/png": "[encoded data removed]",
      "text/plain": [
       "<Figure size 432x288 with 1 Axes>"
      ]
     },
     "metadata": {
      "needs_background": "light"
     },
     "output_type": "display_data"
    }
   ],
   "source": [
    "s = np.random.uniform(-1,0,1000)\n",
    "count, bins, ignored = plt.hist(s, 15, density=True)\n",
    "plt.plot(bins, np.ones_like(bins), linewidth=2, color='r')\n",
    "plt.show()"
   ]
  },
  {
   "cell_type": "code",
   "execution_count": 146,
   "metadata": {},
   "outputs": [
    {
     "data": {
      "image/png": "[encoded data removed]",
      "text/plain": [
       "<Figure size 432x288 with 1 Axes>"
      ]
     },
     "metadata": {
      "needs_background": "light"
     },
     "output_type": "display_data"
    }
   ],
   "source": [
    "#s = np.random.randint(low=INT_MIN, high=INT_MAX, size=1000)\n",
    "N=100\n",
    "s=generate(N, False)\n",
    "count, bins, ignored = plt.hist(s, N, density=True)\n",
    "plt.show()"
   ]
  },
  {
   "cell_type": "code",
   "execution_count": 23,
   "metadata": {},
   "outputs": [
    {
     "name": "stdout",
     "output_type": "stream",
     "text": [
      "80 bytes\n"
     ]
    }
   ],
   "source": [
    "#np.random.randint(5, size=(2, 4))\n",
    "x = np.random.randint(5, size=10)\n",
    "save_arr(x, 'nums.txt')\n",
    "# sys.getsizeof(x)\n",
    "print(\"%d bytes\" % (x.size * x.itemsize))"
   ]
  }
 ],
 "metadata": {
  "kernelspec": {
   "display_name": "Python 3",
   "language": "python",
   "name": "python3"
  },
  "language_info": {
   "codemirror_mode": {
    "name": "ipython",
    "version": 3
   },
   "file_extension": ".py",
   "mimetype": "text/x-python",
   "name": "python",
   "nbconvert_exporter": "python",
   "pygments_lexer": "ipython3",
   "version": "3.6.8"
  }
 },
 "nbformat": 4,
 "nbformat_minor": 2
}
